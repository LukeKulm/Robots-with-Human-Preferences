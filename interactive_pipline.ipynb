{
 "cells": [
  {
   "cell_type": "code",
   "execution_count": null,
   "id": "00ba7616",
   "metadata": {},
   "outputs": [
    {
     "name": "stderr",
     "output_type": "stream",
     "text": [
      "pybullet build time: Apr 13 2025 15:37:52\n"
     ]
    },
    {
     "name": "stdout",
     "output_type": "stream",
     "text": [
      "Version = 4.1 Metal - 89.3\n",
      "Vendor = Apple\n"
     ]
    },
    {
     "name": "stderr",
     "output_type": "stream",
     "text": [
      "2025-05-09 12:08:09.214 python[44832:10993571] +[IMKClient subclass]: chose IMKClient_Modern\n",
      "2025-05-09 12:08:09.214 python[44832:10993571] +[IMKInputSession subclass]: chose IMKInputSession_Modern\n"
     ]
    },
    {
     "name": "stdout",
     "output_type": "stream",
     "text": [
      "Renderer = Apple M1\n",
      "b3Printf: Selected demo: Physics Server\n",
      "startThreads creating 1 threads.\n",
      "starting thread 0\n",
      "started thread 0 \n",
      "MotionThreadFunc thread started\n",
      "🚀 Launching Streamlit UI for preference collection...\n",
      "\n",
      "🔁 Iteration 1/3\n",
      "\n",
      "  You can now view your Streamlit app in your browser.\n",
      "\n",
      "  Local URL: http://localhost:8502\n",
      "  Network URL: http://192.168.1.194:8502\n",
      "\n",
      "  For better performance, install the Watchdog module:\n",
      "\n",
      "  $ xcode-select --install\n",
      "  $ pip install watchdog\n",
      "            \n"
     ]
    },
    {
     "name": "stderr",
     "output_type": "stream",
     "text": [
      "sh: ffmpeg: command not found\n"
     ]
    },
    {
     "ename": "FileNotFoundError",
     "evalue": "[Errno 2] No such file or directory: 'data/clips/left_clip_000_h264.mp4' -> 'data/clips/left_clip_000.mp4'",
     "output_type": "error",
     "traceback": [
      "\u001b[0;31m---------------------------------------------------------------------------\u001b[0m",
      "\u001b[0;31mFileNotFoundError\u001b[0m                         Traceback (most recent call last)",
      "Cell \u001b[0;32mIn[1], line 44\u001b[0m\n\u001b[1;32m     41\u001b[0m \u001b[38;5;28mprint\u001b[39m(\u001b[38;5;124mf\u001b[39m\u001b[38;5;124m\"\u001b[39m\u001b[38;5;130;01m\\n\u001b[39;00m\u001b[38;5;124m🔁 Iteration \u001b[39m\u001b[38;5;132;01m{\u001b[39;00miteration\u001b[38;5;250m \u001b[39m\u001b[38;5;241m+\u001b[39m\u001b[38;5;250m \u001b[39m\u001b[38;5;241m1\u001b[39m\u001b[38;5;132;01m}\u001b[39;00m\u001b[38;5;124m/\u001b[39m\u001b[38;5;132;01m{\u001b[39;00mNUM_ITERATIONS\u001b[38;5;132;01m}\u001b[39;00m\u001b[38;5;124m\"\u001b[39m)\n\u001b[1;32m     43\u001b[0m \u001b[38;5;66;03m# 1. Generate two trajectories with the current PPO policy\u001b[39;00m\n\u001b[0;32m---> 44\u001b[0m prefix_a, prefix_b \u001b[38;5;241m=\u001b[39m \u001b[43mgenerate_and_save_trajectories\u001b[49m\u001b[43m(\u001b[49m\u001b[43miteration\u001b[49m\u001b[43m)\u001b[49m\n\u001b[1;32m     46\u001b[0m \u001b[38;5;66;03m# 2. Ask the user to label preference\u001b[39;00m\n\u001b[1;32m     47\u001b[0m \u001b[38;5;66;03m# print(\"🚀 Launching Streamlit UI for preference collection...\")\u001b[39;00m\n\u001b[1;32m     48\u001b[0m \u001b[38;5;66;03m# # subprocess.run([\"streamlit\", \"run\", \"scripts/visualize_trajectories.py\"])\u001b[39;00m\n\u001b[1;32m     49\u001b[0m \u001b[38;5;66;03m# subprocess.Popen([\"streamlit\", \"run\", \"scripts/visualize_trajectories.py\"])\u001b[39;00m\n\u001b[1;32m     50\u001b[0m \u001b[38;5;28minput\u001b[39m(\u001b[38;5;124m\"\u001b[39m\u001b[38;5;124m📝 Label your preferences in the Streamlit app. Press Enter here when done...\u001b[39m\u001b[38;5;124m\"\u001b[39m)\n",
      "Cell \u001b[0;32mIn[1], line 31\u001b[0m, in \u001b[0;36mgenerate_and_save_trajectories\u001b[0;34m(iteration)\u001b[0m\n\u001b[1;32m     28\u001b[0m prefix1 \u001b[38;5;241m=\u001b[39m \u001b[38;5;124mf\u001b[39m\u001b[38;5;124m\"\u001b[39m\u001b[38;5;124mleft_clip_\u001b[39m\u001b[38;5;132;01m{\u001b[39;00miteration\u001b[38;5;132;01m:\u001b[39;00m\u001b[38;5;124m03d\u001b[39m\u001b[38;5;132;01m}\u001b[39;00m\u001b[38;5;124m\"\u001b[39m\n\u001b[1;32m     29\u001b[0m prefix2 \u001b[38;5;241m=\u001b[39m \u001b[38;5;124mf\u001b[39m\u001b[38;5;124m\"\u001b[39m\u001b[38;5;124mright_clip_\u001b[39m\u001b[38;5;132;01m{\u001b[39;00miteration\u001b[38;5;132;01m:\u001b[39;00m\u001b[38;5;124m03d\u001b[39m\u001b[38;5;132;01m}\u001b[39;00m\u001b[38;5;124m\"\u001b[39m\n\u001b[0;32m---> 31\u001b[0m \u001b[43mrender_trajectory_video\u001b[49m\u001b[43m(\u001b[49m\u001b[43mtraj1\u001b[49m\u001b[43m,\u001b[49m\u001b[43m \u001b[49m\u001b[43mtrainer\u001b[49m\u001b[38;5;241;43m.\u001b[39;49m\u001b[43menv\u001b[49m\u001b[43m,\u001b[49m\u001b[43m \u001b[49m\u001b[43mprefix1\u001b[49m\u001b[43m)\u001b[49m\n\u001b[1;32m     32\u001b[0m render_trajectory_video(traj2, trainer\u001b[38;5;241m.\u001b[39menv, prefix2)\n\u001b[1;32m     34\u001b[0m \u001b[38;5;28;01mreturn\u001b[39;00m prefix1, prefix2\n",
      "File \u001b[0;32m~/Documents/4756/robots-with-human-preferences/inference/render_inference.py:63\u001b[0m, in \u001b[0;36mrender_trajectory_video\u001b[0;34m(trajectory, env, filename_prefix)\u001b[0m\n\u001b[1;32m     60\u001b[0m     video_writer\u001b[38;5;241m.\u001b[39mwrite(bgr)\n\u001b[1;32m     62\u001b[0m video_writer\u001b[38;5;241m.\u001b[39mrelease()\n\u001b[0;32m---> 63\u001b[0m \u001b[43mconvert_to_h264\u001b[49m\u001b[43m(\u001b[49m\u001b[43mvideo_path\u001b[49m\u001b[43m)\u001b[49m\n\u001b[1;32m     64\u001b[0m np\u001b[38;5;241m.\u001b[39msavez(data_path, obs\u001b[38;5;241m=\u001b[39mtrajectory[\u001b[38;5;124m'\u001b[39m\u001b[38;5;124mobservations\u001b[39m\u001b[38;5;124m'\u001b[39m], act\u001b[38;5;241m=\u001b[39mtrajectory[\u001b[38;5;124m'\u001b[39m\u001b[38;5;124mactions\u001b[39m\u001b[38;5;124m'\u001b[39m])\n\u001b[1;32m     65\u001b[0m \u001b[38;5;28mprint\u001b[39m(\u001b[38;5;124mf\u001b[39m\u001b[38;5;124m\"\u001b[39m\u001b[38;5;124m🎥 Saved: \u001b[39m\u001b[38;5;132;01m{\u001b[39;00mvideo_path\u001b[38;5;132;01m}\u001b[39;00m\u001b[38;5;124m\"\u001b[39m)\n",
      "File \u001b[0;32m~/Documents/4756/robots-with-human-preferences/inference/render_inference.py:22\u001b[0m, in \u001b[0;36mconvert_to_h264\u001b[0;34m(video_path)\u001b[0m\n\u001b[1;32m     20\u001b[0m os\u001b[38;5;241m.\u001b[39msystem(\u001b[38;5;124mf\u001b[39m\u001b[38;5;124m\"\u001b[39m\u001b[38;5;124mffmpeg -y -i \u001b[39m\u001b[38;5;132;01m{\u001b[39;00mvideo_path\u001b[38;5;132;01m}\u001b[39;00m\u001b[38;5;124m -vcodec libx264 -crf 23 \u001b[39m\u001b[38;5;132;01m{\u001b[39;00mh264_path\u001b[38;5;132;01m}\u001b[39;00m\u001b[38;5;124m\"\u001b[39m)\n\u001b[1;32m     21\u001b[0m os\u001b[38;5;241m.\u001b[39mremove(video_path)\n\u001b[0;32m---> 22\u001b[0m \u001b[43mos\u001b[49m\u001b[38;5;241;43m.\u001b[39;49m\u001b[43mrename\u001b[49m\u001b[43m(\u001b[49m\u001b[43mh264_path\u001b[49m\u001b[43m,\u001b[49m\u001b[43m \u001b[49m\u001b[43mvideo_path\u001b[49m\u001b[43m)\u001b[49m\n",
      "\u001b[0;31mFileNotFoundError\u001b[0m: [Errno 2] No such file or directory: 'data/clips/left_clip_000_h264.mp4' -> 'data/clips/left_clip_000.mp4'"
     ]
    },
    {
     "ename": "",
     "evalue": "",
     "output_type": "error",
     "traceback": [
      "\u001b[1;31mThe Kernel crashed while executing code in the current cell or a previous cell. \n",
      "\u001b[1;31mPlease review the code in the cell(s) to identify a possible cause of the failure. \n",
      "\u001b[1;31mClick <a href='https://aka.ms/vscodeJupyterKernelCrash'>here</a> for more info. \n",
      "\u001b[1;31mView Jupyter <a href='command:jupyter.viewOutput'>log</a> for further details."
     ]
    }
   ],
   "source": [
    "# Step 1: Imports and environment setup\n",
    "import os\n",
    "import subprocess\n",
    "from training.trainer import RLHFTrainer\n",
    "from training.human_feedback_collector import convert_preferences_to_dataset\n",
    "from inference.render_inference import render_trajectory_video\n",
    "\n",
    "\n",
    "trainer = RLHFTrainer(save_dir=\"saved_models\")\n",
    "\n",
    "os.makedirs(\"data/clips\", exist_ok=True)\n",
    "os.makedirs(\"data/trajectories\", exist_ok=True)\n",
    "\n",
    "NUM_ITERATIONS = 3\n",
    "PREFERENCES_PER_ITER = 1  # number of preferences to collect before training\n",
    "\n",
    "def convert_to_h264(video_path):\n",
    "    h264_path = video_path.replace(\".mp4\", \"_h264.mp4\")\n",
    "    os.system(f\"ffmpeg -y -i {video_path} -vcodec libx264 -crf 23 {h264_path}\")\n",
    "    os.remove(video_path)\n",
    "    os.rename(h264_path, video_path)\n",
    "\n",
    "\n",
    "def generate_and_save_trajectories(iteration):\n",
    "    traj1 = trainer.ppo_trainer.collect_trajectory()\n",
    "    traj2 = trainer.ppo_trainer.collect_trajectory()\n",
    "    \n",
    "    prefix1 = f\"left_clip_{iteration:03d}\"\n",
    "    prefix2 = f\"right_clip_{iteration:03d}\"\n",
    "    \n",
    "    render_trajectory_video(traj1, trainer.env, prefix1)\n",
    "    render_trajectory_video(traj2, trainer.env, prefix2)\n",
    "    \n",
    "    return prefix1, prefix2\n",
    "\n",
    "print(\"🚀 Launching Streamlit UI for preference collection...\")\n",
    "subprocess.Popen([\"streamlit\", \"run\", \"scripts/visualize_trajectories.py\"])\n",
    "\n",
    "# Step 2: Main Preference Training Loop\n",
    "for iteration in range(NUM_ITERATIONS):\n",
    "    print(f\"\\n🔁 Iteration {iteration + 1}/{NUM_ITERATIONS}\")\n",
    "\n",
    "    # 1. Generate two trajectories with the current PPO policy\n",
    "    prefix_a, prefix_b = generate_and_save_trajectories(iteration)\n",
    "\n",
    "    # 2. Ask the user to label preference\n",
    "    # print(\"🚀 Launching Streamlit UI for preference collection...\")\n",
    "    # # subprocess.run([\"streamlit\", \"run\", \"scripts/visualize_trajectories.py\"])\n",
    "    # subprocess.Popen([\"streamlit\", \"run\", \"scripts/visualize_trajectories.py\"])\n",
    "    input(\"📝 Label your preferences in the Streamlit app. Press Enter here when done...\")\n",
    "\n",
    "    # 3. Convert preference logs to training dataset\n",
    "    print(\"📦 Converting preferences to dataset...\")\n",
    "    convert_preferences_to_dataset()\n",
    "\n",
    "    # 4. Train reward model using new preferences\n",
    "    print(\"🎯 Training reward model...\")\n",
    "    trainer.train_reward_model()\n",
    "\n",
    "    # 5. Train PPO with updated reward predictor\n",
    "    print(\"🤖 Training PPO using updated reward function...\")\n",
    "    trainer.train_step()\n",
    "\n",
    "print(\"\\n✅ Done. Preference-based RL pipeline completed.\")"
   ]
  },
  {
   "cell_type": "code",
   "execution_count": null,
   "id": "1a800b98",
   "metadata": {},
   "outputs": [],
   "source": []
  }
 ],
 "metadata": {
  "kernelspec": {
   "display_name": "humanpref",
   "language": "python",
   "name": "python3"
  },
  "language_info": {
   "codemirror_mode": {
    "name": "ipython",
    "version": 3
   },
   "file_extension": ".py",
   "mimetype": "text/x-python",
   "name": "python",
   "nbconvert_exporter": "python",
   "pygments_lexer": "ipython3",
   "version": "3.9.21"
  }
 },
 "nbformat": 4,
 "nbformat_minor": 5
}
